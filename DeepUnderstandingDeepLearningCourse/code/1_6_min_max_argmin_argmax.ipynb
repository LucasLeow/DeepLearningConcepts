{
 "cells": [
  {
   "cell_type": "code",
   "execution_count": 1,
   "metadata": {},
   "outputs": [],
   "source": [
    "import numpy as np\n",
    "import torch\n",
    "import torch.nn as nn"
   ]
  },
  {
   "cell_type": "code",
   "execution_count": 4,
   "metadata": {},
   "outputs": [
    {
     "name": "stdout",
     "output_type": "stream",
     "text": [
      "-3 40\n",
      "3 1\n"
     ]
    }
   ],
   "source": [
    "# Vector (numpy)\n",
    "v = np.array([1, 40, 2, -3])\n",
    "\n",
    "minval = np.min(v)\n",
    "maxval = np.max(v)\n",
    "\n",
    "print(minval, maxval)\n",
    "\n",
    "min_idx = np.argmin(v)\n",
    "max_idx = np.argmax(v)\n",
    "\n",
    "print(min_idx, max_idx)"
   ]
  },
  {
   "cell_type": "code",
   "execution_count": 10,
   "metadata": {},
   "outputs": [
    {
     "name": "stdout",
     "output_type": "stream",
     "text": [
      "[[ 0  1 10]\n",
      " [20  6  5]]\n",
      "0\n",
      "[0 1 5]\n",
      "[0 5]\n",
      "================\n",
      "0\n",
      "[0 0 1]\n",
      "[0 2]\n"
     ]
    }
   ],
   "source": [
    "# Matrix (numpy)\n",
    "\n",
    "M = np.array([[0, 1, 10], [20, 6 , 5]])\n",
    "print(M)\n",
    "\n",
    "matrix_min = np.min(M)\n",
    "col_min = np.min(M, axis=0)\n",
    "row_min = np.min(M, axis=1)\n",
    "\n",
    "print(matrix_min)\n",
    "print(col_min)\n",
    "print(row_min)\n",
    "\n",
    "print(\"================\")\n",
    "\n",
    "matrix_min_idx = np.argmin(M)\n",
    "col_min_idx = np.argmin(M, axis=0)\n",
    "row_min_idx = np.argmin(M, axis=1)\n",
    "\n",
    "print(matrix_min_idx)\n",
    "print(col_min_idx)\n",
    "print(row_min_idx)"
   ]
  },
  {
   "cell_type": "code",
   "execution_count": 13,
   "metadata": {},
   "outputs": [
    {
     "name": "stdout",
     "output_type": "stream",
     "text": [
      "tensor(-3) tensor(40)\n",
      "tensor(3) tensor(1)\n"
     ]
    }
   ],
   "source": [
    "# vector (pytorch)\n",
    "v = torch.tensor([1, 40, 2, -3])\n",
    "\n",
    "minval_torch = torch.min(v)\n",
    "maxval_torch = torch.max(v)\n",
    "\n",
    "print(minval_torch, maxval_torch)\n",
    "\n",
    "minidx_torch = torch.argmin(v)\n",
    "maxidx_torch = torch.argmax(v)\n",
    "\n",
    "print(minidx_torch, maxidx_torch)\n",
    "\n"
   ]
  },
  {
   "cell_type": "code",
   "execution_count": 18,
   "metadata": {},
   "outputs": [
    {
     "name": "stdout",
     "output_type": "stream",
     "text": [
      "tensor([[ 0,  1, 10],\n",
      "        [20,  6,  5]])\n",
      "---------\n",
      "tensor(0)\n",
      "---------\n",
      "torch.return_types.min(\n",
      "values=tensor([0, 1, 5]),\n",
      "indices=tensor([0, 0, 1]))\n",
      "---------\n",
      "torch.return_types.min(\n",
      "values=tensor([0, 5]),\n",
      "indices=tensor([0, 2]))\n"
     ]
    }
   ],
   "source": [
    "# matrix (pytorch)\n",
    "M = torch.tensor([[0, 1, 10], [20, 6, 5]])\n",
    "print(M)\n",
    "\n",
    "matrix_min_torch = torch.min(M)\n",
    "col_min_torch = torch.min(M, axis=0)\n",
    "row_min_torch = torch.min(M, axis=1)\n",
    "\n",
    "print(\"---------\")\n",
    "print(matrix_min_torch)\n",
    "print(\"---------\")\n",
    "print(col_min_torch)\n",
    "print(\"---------\")\n",
    "print(row_min_torch)"
   ]
  },
  {
   "cell_type": "code",
   "execution_count": null,
   "metadata": {},
   "outputs": [],
   "source": []
  }
 ],
 "metadata": {
  "kernelspec": {
   "display_name": "Python 3",
   "language": "python",
   "name": "python3"
  },
  "language_info": {
   "codemirror_mode": {
    "name": "ipython",
    "version": 3
   },
   "file_extension": ".py",
   "mimetype": "text/x-python",
   "name": "python",
   "nbconvert_exporter": "python",
   "pygments_lexer": "ipython3",
   "version": "3.10.5"
  }
 },
 "nbformat": 4,
 "nbformat_minor": 2
}
