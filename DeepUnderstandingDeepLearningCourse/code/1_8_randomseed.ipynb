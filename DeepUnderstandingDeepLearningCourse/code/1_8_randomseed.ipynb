{
 "cells": [
  {
   "cell_type": "code",
   "execution_count": 8,
   "metadata": {},
   "outputs": [],
   "source": [
    "import numpy as np\n",
    "import torch"
   ]
  },
  {
   "cell_type": "code",
   "execution_count": 7,
   "metadata": {},
   "outputs": [
    {
     "name": "stdout",
     "output_type": "stream",
     "text": [
      "[ 0.27626589 -1.85462808  0.62390111  1.14531129  1.03719047]\n",
      "[-0.31232848  0.33928471 -0.15590853 -0.50178967  0.23556889]\n",
      "[ 1.9819639   1.00959555  0.06789345 -1.00363598 -1.06193596]\n"
     ]
    }
   ],
   "source": [
    "randseed1 = np.random.RandomState(seed=17)\n",
    "randseed2 = np.random.RandomState(seed=15)\n",
    "\n",
    "print(randseed1.randn(5))\n",
    "print(randseed2.randn(5))\n",
    "print(np.random.randn(5))"
   ]
  },
  {
   "cell_type": "markdown",
   "metadata": {},
   "source": [
    "### Random Generator in Pytorch\n"
   ]
  },
  {
   "cell_type": "code",
   "execution_count": 15,
   "metadata": {},
   "outputs": [
    {
     "name": "stdout",
     "output_type": "stream",
     "text": [
      "tensor([-0.4868, -0.6038, -0.5581,  0.6675, -0.1974])\n"
     ]
    }
   ],
   "source": [
    "torch.randn(5)\n",
    "\n",
    "torch.manual_seed(5)\n",
    "print(torch.randn(5))"
   ]
  }
 ],
 "metadata": {
  "kernelspec": {
   "display_name": "Python 3",
   "language": "python",
   "name": "python3"
  },
  "language_info": {
   "codemirror_mode": {
    "name": "ipython",
    "version": 3
   },
   "file_extension": ".py",
   "mimetype": "text/x-python",
   "name": "python",
   "nbconvert_exporter": "python",
   "pygments_lexer": "ipython3",
   "version": "3.10.5"
  }
 },
 "nbformat": 4,
 "nbformat_minor": 2
}
