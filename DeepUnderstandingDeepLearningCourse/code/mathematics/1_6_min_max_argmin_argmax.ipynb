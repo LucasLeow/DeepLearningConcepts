{
 "cells": [
  {
   "cell_type": "code",
   "execution_count": 1,
   "metadata": {},
   "outputs": [],
   "source": [
    "import numpy as np\n",
    "import torch\n",
    "import torch.nn as nn"
   ]
  },
  {
   "cell_type": "code",
   "execution_count": null,
   "metadata": {},
   "outputs": [],
   "source": [
    "# Vector (numpy)\n",
    "v = np.array([1, 40, 2, -3])\n",
    "\n",
    "minval = np.min(v)\n",
    "maxval = np.max(v)\n",
    "\n",
    "print(minval, maxval)\n",
    "\n",
    "min_idx = np.argmin(v)\n",
    "max_idx = np.argmax(v)\n",
    "\n",
    "print(min_idx, max_idx)"
   ]
  },
  {
   "cell_type": "code",
   "execution_count": null,
   "metadata": {},
   "outputs": [],
   "source": [
    "# Matrix (numpy)\n",
    "\n",
    "M = np.array([[0, 1, 10], [20, 6 , 5]])\n",
    "print(M)\n",
    "\n",
    "matrix_min = np.min(M)\n",
    "col_min = np.min(M, axis=0)\n",
    "row_min = np.min(M, axis=1)\n",
    "\n",
    "print(matrix_min)\n",
    "print(col_min)\n",
    "print(row_min)\n",
    "\n",
    "print(\"================\")\n",
    "\n",
    "matrix_min_idx = np.argmin(M)\n",
    "col_min_idx = np.argmin(M, axis=0)\n",
    "row_min_idx = np.argmin(M, axis=1)\n",
    "\n",
    "print(matrix_min_idx)\n",
    "print(col_min_idx)\n",
    "print(row_min_idx)"
   ]
  },
  {
   "cell_type": "code",
   "execution_count": null,
   "metadata": {},
   "outputs": [],
   "source": [
    "# vector (pytorch)\n",
    "v = torch.tensor([1, 40, 2, -3])\n",
    "\n",
    "minval_torch = torch.min(v)\n",
    "maxval_torch = torch.max(v)\n",
    "\n",
    "print(minval_torch, maxval_torch)\n",
    "\n",
    "minidx_torch = torch.argmin(v)\n",
    "maxidx_torch = torch.argmax(v)\n",
    "\n",
    "print(minidx_torch, maxidx_torch)\n",
    "\n"
   ]
  },
  {
   "cell_type": "code",
   "execution_count": null,
   "metadata": {},
   "outputs": [],
   "source": [
    "# matrix (pytorch)\n",
    "M = torch.tensor([[0, 1, 10], [20, 6, 5]])\n",
    "print(M)\n",
    "\n",
    "matrix_min_torch = torch.min(M)\n",
    "col_min_torch = torch.min(M, axis=0)\n",
    "row_min_torch = torch.min(M, axis=1)\n",
    "\n",
    "print(\"---------\")\n",
    "print(matrix_min_torch)\n",
    "print(\"---------\")\n",
    "print(col_min_torch)\n",
    "print(\"---------\")\n",
    "print(row_min_torch)"
   ]
  },
  {
   "cell_type": "code",
   "execution_count": null,
   "metadata": {},
   "outputs": [],
   "source": []
  }
 ],
 "metadata": {
  "kernelspec": {
   "display_name": "Python 3",
   "language": "python",
   "name": "python3"
  },
  "language_info": {
   "codemirror_mode": {
    "name": "ipython",
    "version": 3
   },
   "file_extension": ".py",
   "mimetype": "text/x-python",
   "name": "python",
   "nbconvert_exporter": "python",
   "pygments_lexer": "ipython3",
   "version": "3.10.5"
  }
 },
 "nbformat": 4,
 "nbformat_minor": 2
}
