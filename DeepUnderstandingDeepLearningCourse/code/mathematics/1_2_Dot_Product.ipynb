{
 "cells": [
  {
   "cell_type": "code",
   "execution_count": 1,
   "metadata": {},
   "outputs": [],
   "source": [
    "import numpy as np\n",
    "import torch"
   ]
  },
  {
   "cell_type": "markdown",
   "metadata": {},
   "source": [
    "### Using NumPy\n"
   ]
  },
  {
   "cell_type": "code",
   "execution_count": 4,
   "metadata": {},
   "outputs": [
    {
     "name": "stdout",
     "output_type": "stream",
     "text": [
      "-2\n",
      "-2\n"
     ]
    }
   ],
   "source": [
    "# create vectors\n",
    "nv1 = np.array([1, 2, 3, 4])\n",
    "nv2 = np.array([0, 1, 0, -1])\n",
    "\n",
    "# dot product via method (recommended)\n",
    "print(np.dot(nv1, nv2))\n",
    "\n",
    "# dot product via math computation\n",
    "print(np.sum(nv1 * nv2))"
   ]
  },
  {
   "cell_type": "markdown",
   "metadata": {},
   "source": [
    "### Using PyTorch\n"
   ]
  },
  {
   "cell_type": "code",
   "execution_count": 5,
   "metadata": {},
   "outputs": [
    {
     "name": "stdout",
     "output_type": "stream",
     "text": [
      "tensor(-2)\n",
      "tensor(-2)\n"
     ]
    }
   ],
   "source": [
    "# create vectors\n",
    "tv1 = torch.tensor([1, 2, 3, 4])\n",
    "tv2 = torch.tensor([0, 1, 0, -1])\n",
    "\n",
    "# dot product via method (recommended)\n",
    "print(torch.dot(tv1, tv2))\n",
    "\n",
    "# dot product via math computation\n",
    "print(torch.sum(tv1 * tv2))\n"
   ]
  }
 ],
 "metadata": {
  "kernelspec": {
   "display_name": "Python 3",
   "language": "python",
   "name": "python3"
  },
  "language_info": {
   "codemirror_mode": {
    "name": "ipython",
    "version": 3
   },
   "file_extension": ".py",
   "mimetype": "text/x-python",
   "name": "python",
   "nbconvert_exporter": "python",
   "pygments_lexer": "ipython3",
   "version": "3.10.5"
  }
 },
 "nbformat": 4,
 "nbformat_minor": 2
}
