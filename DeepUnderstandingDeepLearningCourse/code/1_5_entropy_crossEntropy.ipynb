{
 "cells": [
  {
   "cell_type": "code",
   "execution_count": 2,
   "metadata": {},
   "outputs": [],
   "source": [
    "import numpy as np"
   ]
  },
  {
   "cell_type": "code",
   "execution_count": 12,
   "metadata": {},
   "outputs": [
    {
     "name": "stdout",
     "output_type": "stream",
     "text": [
      "[0.5623351446188083, 0.5623351446188083, 0.5623351446188083, 0.5623351446188083]\n"
     ]
    }
   ],
   "source": [
    "# Binary Entropy\n",
    "x = [0.25 for _ in range(4)]\n",
    "entropy = []\n",
    "\n",
    "for p in x:\n",
    "    H = 0\n",
    "    # Binary-entropy\n",
    "    H += ((-p * np.log(p)) + (-(1 - p) * np.log(1 - p)))\n",
    "    entropy.append(H)\n",
    "    \n",
    "\n",
    "print(entropy)"
   ]
  },
  {
   "cell_type": "code",
   "execution_count": 6,
   "metadata": {},
   "outputs": [
    {
     "name": "stdout",
     "output_type": "stream",
     "text": [
      "1.5141277326297755\n"
     ]
    }
   ],
   "source": [
    "# Binary Cross Entropy\n",
    "p = [1., 0.]\n",
    "q = [0.22, 0.78]\n",
    "\n",
    "H = 0\n",
    "for i in range(len(p)):\n",
    "    H += -p[i] * np.log(q[i])\n",
    "\n",
    "print(H)"
   ]
  },
  {
   "cell_type": "code",
   "execution_count": 8,
   "metadata": {},
   "outputs": [
    {
     "data": {
      "text/plain": [
       "tensor(1.5141)"
      ]
     },
     "execution_count": 8,
     "metadata": {},
     "output_type": "execute_result"
    }
   ],
   "source": [
    "# Using pytorch\n",
    "import torch\n",
    "import torch.nn.functional as F\n",
    "\n",
    "p_tensor = torch.tensor(p)\n",
    "q_tensor = torch.tensor(q)\n",
    "\n",
    "# q = model prediction, p = label answer (order matters)\n",
    "F.binary_cross_entropy(q_tensor, p_tensor)"
   ]
  },
  {
   "cell_type": "code",
   "execution_count": null,
   "metadata": {},
   "outputs": [],
   "source": []
  }
 ],
 "metadata": {
  "kernelspec": {
   "display_name": "Python 3",
   "language": "python",
   "name": "python3"
  },
  "language_info": {
   "codemirror_mode": {
    "name": "ipython",
    "version": 3
   },
   "file_extension": ".py",
   "mimetype": "text/x-python",
   "name": "python",
   "nbconvert_exporter": "python",
   "pygments_lexer": "ipython3",
   "version": "3.10.5"
  }
 },
 "nbformat": 4,
 "nbformat_minor": 2
}
