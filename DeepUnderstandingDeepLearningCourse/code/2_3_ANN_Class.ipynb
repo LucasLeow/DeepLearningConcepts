{
 "cells": [
  {
   "cell_type": "code",
   "execution_count": 1,
   "metadata": {},
   "outputs": [],
   "source": [
    "# import libraries\n",
    "import torch\n",
    "import torch.nn as nn\n",
    "import torch.nn.functional as F\n",
    "\n",
    "import numpy as np\n",
    "import matplotlib.pyplot as plt\n",
    "import matplotlib_inline.backend_inline\n",
    "matplotlib_inline.backend_inline.set_matplotlib_formats('svg')"
   ]
  },
  {
   "cell_type": "code",
   "execution_count": 6,
   "metadata": {},
   "outputs": [],
   "source": [
    "import pandas as pd\n",
    "iris = pd.read_csv('https://raw.githubusercontent.com/mwaskom/seaborn-data/master/iris.csv')\n",
    "\n",
    "# convert from pandas dataframe to tensor\n",
    "data = torch.tensor( iris[iris.columns[0:4]].values ).float()\n",
    "\n",
    "# transform species to number\n",
    "labels = torch.zeros(len(data), dtype=torch.long)\n",
    "# labels[iris.species=='setosa'] = 0 # don't need!\n",
    "labels[iris.species=='versicolor'] = 1\n",
    "labels[iris.species=='virginica'] = 2"
   ]
  },
  {
   "cell_type": "code",
   "execution_count": 2,
   "metadata": {},
   "outputs": [],
   "source": [
    "class ANNiris(nn.Module):\n",
    "    \n",
    "    def __init__(self, nNodes, nLayers):\n",
    "        super().__init__()\n",
    "        \n",
    "        self.layers = nn.ModuleDict() # dict to store layers\n",
    "        self.nLayers = nLayers\n",
    "        \n",
    "        # input layer\n",
    "        self.layers['input'] = nn.Linear(4, nNodes) # 4 input variables\n",
    "        \n",
    "        for i in range(nLayers):\n",
    "            self.layers[f'hidden-L{i + 1}'] = nn.Linear(nNodes, nNodes)   \n",
    "            \n",
    "        # output layer\n",
    "        self.layers['output'] = nn.Linear(nNodes, 3) # 3 output categories\n",
    "    \n",
    "    def forward(self, x):\n",
    "        x = F.relu(self.layers['input'](x))\n",
    "        \n",
    "        for i in range(self.nLayers):\n",
    "            x = F.relu(self.layers[f'hidden-L{i + 1}'](x))\n",
    "        \n",
    "        x = self.layers['output'](x)\n",
    "        return x"
   ]
  },
  {
   "cell_type": "code",
   "execution_count": null,
   "metadata": {},
   "outputs": [],
   "source": [
    "numEpochs = 200\n",
    "\n",
    "def trainModel(model):\n",
    "    lossFn = nn.CrossEntropyLoss()\n",
    "    optimizer = torch.optim.SGD(model.paramters(), lr=0.1)\n",
    "    \n",
    "    for epch in range(numEpochs):\n",
    "        \n",
    "        # forward pass\n",
    "        yPred = model(data)\n",
    "        \n",
    "        # compute loss\n",
    "        loss = lossFn(yPred, labels)\n",
    "        \n",
    "        # backprop\n",
    "        optimizer.zero_grad()\n",
    "        loss.backward()\n",
    "        optimizer.step()\n",
    "    \n",
    "    # final forward pass\n",
    "    predictions = model(data)\n",
    "    predLabels = torch.argmax(predictions, axis=1)\n",
    "    acc = 100 * torch.mean((predLabels == labels).float())\n",
    "    \n",
    "    # total number of trainable params in model\n",
    "    nParams = sum(p.numel() for p in model.parameters() if p.requires_grad)\n",
    "    \n",
    "    return acc, nParams\n",
    "        "
   ]
  }
 ],
 "metadata": {
  "kernelspec": {
   "display_name": "Python 3",
   "language": "python",
   "name": "python3"
  },
  "language_info": {
   "codemirror_mode": {
    "name": "ipython",
    "version": 3
   },
   "file_extension": ".py",
   "mimetype": "text/x-python",
   "name": "python",
   "nbconvert_exporter": "python",
   "pygments_lexer": "ipython3",
   "version": "3.10.5"
  }
 },
 "nbformat": 4,
 "nbformat_minor": 2
}
