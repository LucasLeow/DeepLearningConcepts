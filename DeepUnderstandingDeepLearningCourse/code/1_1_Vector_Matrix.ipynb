{
 "cells": [
  {
   "cell_type": "code",
   "execution_count": 3,
   "metadata": {},
   "outputs": [],
   "source": [
    "import numpy as np\n",
    "import torch"
   ]
  },
  {
   "cell_type": "markdown",
   "metadata": {},
   "source": [
    "### Using Numpy\n"
   ]
  },
  {
   "cell_type": "code",
   "execution_count": 8,
   "metadata": {},
   "outputs": [
    {
     "name": "stdout",
     "output_type": "stream",
     "text": [
      "[[1 2 3 4]]\n",
      "[[1]\n",
      " [2]\n",
      " [3]\n",
      " [4]]\n"
     ]
    }
   ],
   "source": [
    "# create vector\n",
    "nv = np.array([[1, 2, 3, 4]])\n",
    "print(nv)\n",
    "\n",
    "# transpose vector\n",
    "print(nv.T)\n"
   ]
  },
  {
   "cell_type": "code",
   "execution_count": 12,
   "metadata": {},
   "outputs": [
    {
     "name": "stdout",
     "output_type": "stream",
     "text": [
      "[[1 2 3 4]\n",
      " [3 4 5 6]]\n",
      "\n",
      "[[1 3]\n",
      " [2 4]\n",
      " [3 5]\n",
      " [4 6]]\n"
     ]
    }
   ],
   "source": [
    "# create matrix\n",
    "nM = np.array([\n",
    "    [1, 2, 3, 4], # row 1\n",
    "    [3, 4, 5, 6] # row 2\n",
    "])\n",
    "\n",
    "print(nM), print()\n",
    "print(nM.T)"
   ]
  },
  {
   "cell_type": "markdown",
   "metadata": {},
   "source": [
    "### Using PyTorch\n"
   ]
  },
  {
   "cell_type": "code",
   "execution_count": 13,
   "metadata": {},
   "outputs": [
    {
     "name": "stdout",
     "output_type": "stream",
     "text": [
      "tensor([[1, 2, 3, 4]])\n",
      "tensor([[1],\n",
      "        [2],\n",
      "        [3],\n",
      "        [4]])\n"
     ]
    }
   ],
   "source": [
    "tv = torch.tensor([\n",
    "    [1, 2, 3, 4] # row 1\n",
    "])\n",
    "\n",
    "print(tv)\n",
    "\n",
    "print(tv.T)"
   ]
  },
  {
   "cell_type": "code",
   "execution_count": 15,
   "metadata": {},
   "outputs": [
    {
     "name": "stdout",
     "output_type": "stream",
     "text": [
      "tensor([[1, 2, 3, 4],\n",
      "        [3, 4, 5, 6]])\n",
      "tensor([[1, 3],\n",
      "        [2, 4],\n",
      "        [3, 5],\n",
      "        [4, 6]])\n"
     ]
    }
   ],
   "source": [
    "tM = torch.tensor([\n",
    "    [1, 2, 3, 4], # row 1\n",
    "    [3, 4, 5, 6] # row 2\n",
    "])\n",
    "\n",
    "print(tM)\n",
    "\n",
    "print(tM.T)"
   ]
  },
  {
   "cell_type": "code",
   "execution_count": null,
   "metadata": {},
   "outputs": [],
   "source": []
  }
 ],
 "metadata": {
  "kernelspec": {
   "display_name": "Python 3",
   "language": "python",
   "name": "python3"
  },
  "language_info": {
   "codemirror_mode": {
    "name": "ipython",
    "version": 3
   },
   "file_extension": ".py",
   "mimetype": "text/x-python",
   "name": "python",
   "nbconvert_exporter": "python",
   "pygments_lexer": "ipython3",
   "version": "3.10.5"
  }
 },
 "nbformat": 4,
 "nbformat_minor": 2
}
